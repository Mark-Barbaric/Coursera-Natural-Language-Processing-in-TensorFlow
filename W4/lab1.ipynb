{
 "cells": [
  {
   "cell_type": "markdown",
   "metadata": {},
   "source": [
    "# Ungraded Lab: Generating Text with Neural Networks\n",
    "\n",
    "For this week, you will look at techniques to prepare data and build models for text generation. You will train a neural network with lyrics from an Irish song then let it make a new song for you. Though this might sound like a more complex application, you'll soon see that the process is very similar to the ones you've been using in the previous weeks. Only minor modifications are needed. Let's see what these are in the next sections."
   ]
  },
  {
   "cell_type": "code",
   "execution_count": 3,
   "metadata": {},
   "outputs": [
    {
     "name": "stderr",
     "output_type": "stream",
     "text": [
      "2023-11-19 12:35:26.435524: I tensorflow/tsl/cuda/cudart_stub.cc:28] Could not find cuda drivers on your machine, GPU will not be used.\n",
      "2023-11-19 12:35:26.686357: I tensorflow/tsl/cuda/cudart_stub.cc:28] Could not find cuda drivers on your machine, GPU will not be used.\n",
      "2023-11-19 12:35:26.689859: I tensorflow/core/platform/cpu_feature_guard.cc:182] This TensorFlow binary is optimized to use available CPU instructions in performance-critical operations.\n",
      "To enable the following instructions: AVX2 FMA, in other operations, rebuild TensorFlow with the appropriate compiler flags.\n",
      "2023-11-19 12:35:28.191880: W tensorflow/compiler/tf2tensorrt/utils/py_utils.cc:38] TF-TRT Warning: Could not find TensorRT\n"
     ]
    }
   ],
   "source": [
    "import tensorflow as tf\n",
    "import numpy as np\n",
    "from tensorflow.keras.layers import Embedding, LSTM, Dense, Bidirectional\n",
    "from tensorflow.keras.models import Sequential\n",
    "from tensorflow.keras.preprocessing.text import Tokenizer\n",
    "from tensorflow.keras.preprocessing.sequence import pad_sequences"
   ]
  },
  {
   "cell_type": "code",
   "execution_count": 4,
   "metadata": {},
   "outputs": [
    {
     "name": "stdout",
     "output_type": "stream",
     "text": [
      "['in the town of athy one jeremy lanigan ', ' battered away til he hadnt a pound. ', 'his father died and made him a man again ', ' left him a farm and ten acres of ground. ', 'he gave a grand party for friends and relations ', 'who didnt forget him when come to the wall, ', 'and if youll but listen ill make your eyes glisten ', 'of the rows and the ructions of lanigans ball. ', 'myself to be sure got free invitation, ', 'for all the nice girls and boys i might ask, ', 'and just in a minute both friends and relations ', 'were dancing round merry as bees round a cask. ', 'judy odaly, that nice little milliner, ', 'she tipped me a wink for to give her a call, ', 'and i soon arrived with peggy mcgilligan ', 'just in time for lanigans ball. ', 'there were lashings of punch and wine for the ladies, ', 'potatoes and cakes; there was bacon and tea, ', 'there were the nolans, dolans, ogradys ', 'courting the girls and dancing away. ', 'songs they went round as plenty as water, ', 'the harp that once sounded in taras old hall,', 'sweet nelly gray and the rat catchers daughter,', 'all singing together at lanigans ball. ', 'they were doing all kinds of nonsensical polkas ', 'all round the room in a whirligig. ', 'julia and i, we banished their nonsense ', 'and tipped them the twist of a reel and a jig. ', 'ach mavrone, how the girls got all mad at me ', 'danced til youd think the ceiling would fall. ', 'for i spent three weeks at brooks academy ', 'learning new steps for lanigans ball. ', 'three long weeks i spent up in dublin, ', 'three long weeks to learn nothing at all,', ' three long weeks i spent up in dublin, ', 'learning new steps for lanigans ball. ', 'she stepped out and i stepped in again, ', 'i stepped out and she stepped in again, ', 'she stepped out and i stepped in again, ', 'learning new steps for lanigans ball. ', 'boys were all merry and the girls they were hearty ', 'and danced all around in couples and groups, ', 'til an accident happened, young terrance mccarthy ', 'put his right leg through miss finnertys hoops. ', 'poor creature fainted and cried meelia murther, ', 'called for her brothers and gathered them all. ', 'carmody swore that hed go no further ', 'til he had satisfaction at lanigans ball. ', 'in the midst of the row miss kerrigan fainted, ', 'her cheeks at the same time as red as a rose. ', 'some of the lads declared she was painted, ', 'she took a small drop too much, i suppose. ', 'her sweetheart, ned morgan, so powerful and able, ', 'when he saw his fair colleen stretched out by the wall, ', 'tore the left leg from under the table ', 'and smashed all the chaneys at lanigans ball. ', 'boys, oh boys, twas then there were runctions. ', 'myself got a lick from big phelim mchugh. ', 'i soon replied to his introduction ', 'and kicked up a terrible hullabaloo. ', 'old casey, the piper, was near being strangled. ', 'they squeezed up his pipes, bellows, chanters and all. ', 'the girls, in their ribbons, they got all entangled ', 'and that put an end to lanigans ball.']\n"
     ]
    }
   ],
   "source": [
    "# Define the lyrics of the song\n",
    "data=\"In the town of Athy one Jeremy Lanigan \\n Battered away til he hadnt a pound. \\nHis father died and made him a man again \\n Left him a farm and ten acres of ground. \\nHe gave a grand party for friends and relations \\nWho didnt forget him when come to the wall, \\nAnd if youll but listen Ill make your eyes glisten \\nOf the rows and the ructions of Lanigans Ball. \\nMyself to be sure got free invitation, \\nFor all the nice girls and boys I might ask, \\nAnd just in a minute both friends and relations \\nWere dancing round merry as bees round a cask. \\nJudy ODaly, that nice little milliner, \\nShe tipped me a wink for to give her a call, \\nAnd I soon arrived with Peggy McGilligan \\nJust in time for Lanigans Ball. \\nThere were lashings of punch and wine for the ladies, \\nPotatoes and cakes; there was bacon and tea, \\nThere were the Nolans, Dolans, OGradys \\nCourting the girls and dancing away. \\nSongs they went round as plenty as water, \\nThe harp that once sounded in Taras old hall,\\nSweet Nelly Gray and The Rat Catchers Daughter,\\nAll singing together at Lanigans Ball. \\nThey were doing all kinds of nonsensical polkas \\nAll round the room in a whirligig. \\nJulia and I, we banished their nonsense \\nAnd tipped them the twist of a reel and a jig. \\nAch mavrone, how the girls got all mad at me \\nDanced til youd think the ceiling would fall. \\nFor I spent three weeks at Brooks Academy \\nLearning new steps for Lanigans Ball. \\nThree long weeks I spent up in Dublin, \\nThree long weeks to learn nothing at all,\\n Three long weeks I spent up in Dublin, \\nLearning new steps for Lanigans Ball. \\nShe stepped out and I stepped in again, \\nI stepped out and she stepped in again, \\nShe stepped out and I stepped in again, \\nLearning new steps for Lanigans Ball. \\nBoys were all merry and the girls they were hearty \\nAnd danced all around in couples and groups, \\nTil an accident happened, young Terrance McCarthy \\nPut his right leg through miss Finnertys hoops. \\nPoor creature fainted and cried Meelia murther, \\nCalled for her brothers and gathered them all. \\nCarmody swore that hed go no further \\nTil he had satisfaction at Lanigans Ball. \\nIn the midst of the row miss Kerrigan fainted, \\nHer cheeks at the same time as red as a rose. \\nSome of the lads declared she was painted, \\nShe took a small drop too much, I suppose. \\nHer sweetheart, Ned Morgan, so powerful and able, \\nWhen he saw his fair colleen stretched out by the wall, \\nTore the left leg from under the table \\nAnd smashed all the Chaneys at Lanigans Ball. \\nBoys, oh boys, twas then there were runctions. \\nMyself got a lick from big Phelim McHugh. \\nI soon replied to his introduction \\nAnd kicked up a terrible hullabaloo. \\nOld Casey, the piper, was near being strangled. \\nThey squeezed up his pipes, bellows, chanters and all. \\nThe girls, in their ribbons, they got all entangled \\nAnd that put an end to Lanigans Ball.\"\n",
    "\n",
    "# Split the long string per line and put in a list\n",
    "corpus = data.lower().split(\"\\n\")\n",
    "\n",
    "# Preview the result\n",
    "print(corpus)"
   ]
  },
  {
   "cell_type": "code",
   "execution_count": 5,
   "metadata": {},
   "outputs": [
    {
     "name": "stdout",
     "output_type": "stream",
     "text": [
      "word index dictionary: {'and': 1, 'the': 2, 'a': 3, 'in': 4, 'all': 5, 'i': 6, 'for': 7, 'of': 8, 'lanigans': 9, 'ball': 10, 'were': 11, 'at': 12, 'to': 13, 'she': 14, 'stepped': 15, 'his': 16, 'girls': 17, 'as': 18, 'they': 19, 'til': 20, 'he': 21, 'again': 22, 'got': 23, 'boys': 24, 'round': 25, 'that': 26, 'her': 27, 'there': 28, 'three': 29, 'weeks': 30, 'up': 31, 'out': 32, 'him': 33, 'was': 34, 'spent': 35, 'learning': 36, 'new': 37, 'steps': 38, 'long': 39, 'away': 40, 'left': 41, 'friends': 42, 'relations': 43, 'when': 44, 'wall': 45, 'myself': 46, 'nice': 47, 'just': 48, 'dancing': 49, 'merry': 50, 'tipped': 51, 'me': 52, 'soon': 53, 'time': 54, 'old': 55, 'their': 56, 'them': 57, 'danced': 58, 'dublin': 59, 'an': 60, 'put': 61, 'leg': 62, 'miss': 63, 'fainted': 64, 'from': 65, 'town': 66, 'athy': 67, 'one': 68, 'jeremy': 69, 'lanigan': 70, 'battered': 71, 'hadnt': 72, 'pound': 73, 'father': 74, 'died': 75, 'made': 76, 'man': 77, 'farm': 78, 'ten': 79, 'acres': 80, 'ground': 81, 'gave': 82, 'grand': 83, 'party': 84, 'who': 85, 'didnt': 86, 'forget': 87, 'come': 88, 'if': 89, 'youll': 90, 'but': 91, 'listen': 92, 'ill': 93, 'make': 94, 'your': 95, 'eyes': 96, 'glisten': 97, 'rows': 98, 'ructions': 99, 'be': 100, 'sure': 101, 'free': 102, 'invitation': 103, 'might': 104, 'ask': 105, 'minute': 106, 'both': 107, 'bees': 108, 'cask': 109, 'judy': 110, 'odaly': 111, 'little': 112, 'milliner': 113, 'wink': 114, 'give': 115, 'call': 116, 'arrived': 117, 'with': 118, 'peggy': 119, 'mcgilligan': 120, 'lashings': 121, 'punch': 122, 'wine': 123, 'ladies': 124, 'potatoes': 125, 'cakes': 126, 'bacon': 127, 'tea': 128, 'nolans': 129, 'dolans': 130, 'ogradys': 131, 'courting': 132, 'songs': 133, 'went': 134, 'plenty': 135, 'water': 136, 'harp': 137, 'once': 138, 'sounded': 139, 'taras': 140, 'hall': 141, 'sweet': 142, 'nelly': 143, 'gray': 144, 'rat': 145, 'catchers': 146, 'daughter': 147, 'singing': 148, 'together': 149, 'doing': 150, 'kinds': 151, 'nonsensical': 152, 'polkas': 153, 'room': 154, 'whirligig': 155, 'julia': 156, 'we': 157, 'banished': 158, 'nonsense': 159, 'twist': 160, 'reel': 161, 'jig': 162, 'ach': 163, 'mavrone': 164, 'how': 165, 'mad': 166, 'youd': 167, 'think': 168, 'ceiling': 169, 'would': 170, 'fall': 171, 'brooks': 172, 'academy': 173, 'learn': 174, 'nothing': 175, 'hearty': 176, 'around': 177, 'couples': 178, 'groups': 179, 'accident': 180, 'happened': 181, 'young': 182, 'terrance': 183, 'mccarthy': 184, 'right': 185, 'through': 186, 'finnertys': 187, 'hoops': 188, 'poor': 189, 'creature': 190, 'cried': 191, 'meelia': 192, 'murther': 193, 'called': 194, 'brothers': 195, 'gathered': 196, 'carmody': 197, 'swore': 198, 'hed': 199, 'go': 200, 'no': 201, 'further': 202, 'had': 203, 'satisfaction': 204, 'midst': 205, 'row': 206, 'kerrigan': 207, 'cheeks': 208, 'same': 209, 'red': 210, 'rose': 211, 'some': 212, 'lads': 213, 'declared': 214, 'painted': 215, 'took': 216, 'small': 217, 'drop': 218, 'too': 219, 'much': 220, 'suppose': 221, 'sweetheart': 222, 'ned': 223, 'morgan': 224, 'so': 225, 'powerful': 226, 'able': 227, 'saw': 228, 'fair': 229, 'colleen': 230, 'stretched': 231, 'by': 232, 'tore': 233, 'under': 234, 'table': 235, 'smashed': 236, 'chaneys': 237, 'oh': 238, 'twas': 239, 'then': 240, 'runctions': 241, 'lick': 242, 'big': 243, 'phelim': 244, 'mchugh': 245, 'replied': 246, 'introduction': 247, 'kicked': 248, 'terrible': 249, 'hullabaloo': 250, 'casey': 251, 'piper': 252, 'near': 253, 'being': 254, 'strangled': 255, 'squeezed': 256, 'pipes': 257, 'bellows': 258, 'chanters': 259, 'ribbons': 260, 'entangled': 261, 'end': 262}\n",
      "total words: 263\n"
     ]
    }
   ],
   "source": [
    "# Initialize the Tokenizer class\n",
    "tokenizer = Tokenizer()\n",
    "\n",
    "# Generate the word index dictionary\n",
    "tokenizer.fit_on_texts(corpus)\n",
    "\n",
    "# Define the total words. You add 1 for the index `0` which is just the padding token.\n",
    "total_words = len(tokenizer.word_index) + 1\n",
    "\n",
    "print(f'word index dictionary: {tokenizer.word_index}')\n",
    "print(f'total words: {total_words}')"
   ]
  },
  {
   "cell_type": "markdown",
   "metadata": {},
   "source": [
    "## Preprocessing the Dataset\n",
    "\n",
    "Next, you will be generating the training sequences and their labels. As discussed in the lectures, you will take each line of the song and generate inputs and labels from it. For example, if you only have one sentence: \"I am using Tensorflow\", you want the model to learn the next word given any subphrase of this sentence:\n",
    "\n",
    "```\n",
    "INPUT              LABEL\n",
    "-----------------------------\n",
    "I             ---> am\n",
    "I am          ---> using\n",
    "I am using    ---> Tensorflow\n",
    "```\n",
    "\n",
    "The next cell shows how to implement this concept in code. The result would be inputs as padded sequences, and labels as one-hot encoded arrays."
   ]
  },
  {
   "cell_type": "code",
   "execution_count": 6,
   "metadata": {},
   "outputs": [],
   "source": [
    "#test=[[0,1],[0,1,2],[0,1,2,3,4]]\n",
    "#t1 = test[:,:-1]\n",
    "#t1"
   ]
  },
  {
   "cell_type": "code",
   "execution_count": 17,
   "metadata": {},
   "outputs": [],
   "source": [
    "input_sequences = []\n",
    "\n",
    "for line in corpus:\n",
    "    token_list = tokenizer.texts_to_sequences([line])[0]\n",
    "    \n",
    "    for i in range(1, len(token_list)):\n",
    "        n_gram_sequence = token_list[:i + 1]\n",
    "        input_sequences.append(n_gram_sequence)\n",
    "    \n",
    "    \n",
    "max_sequence_len = max([len(x) for x in input_sequences])\n",
    "\n",
    "input_sequences = np.array(pad_sequences(input_sequences, maxlen=max_sequence_len, padding='pre'))\n",
    "\n",
    "xs, labels = input_sequences[:, :-1], input_sequences[:,-1]\n",
    "\n",
    "ys = tf.keras.utils.to_categorical(labels, num_classes=total_words)\n",
    "    "
   ]
  },
  {
   "cell_type": "code",
   "execution_count": 18,
   "metadata": {},
   "outputs": [
    {
     "name": "stdout",
     "output_type": "stream",
     "text": [
      "sample sentence: ['in', 'the', 'town', 'of', 'athy', 'one', 'jeremy', 'lanigan']\n",
      "[4, 2, 66, 8, 67, 68, 69, 70]\n"
     ]
    }
   ],
   "source": [
    "sentence = corpus[0].split()\n",
    "print(f\"sample sentence: {sentence}\")\n",
    "\n",
    "token_list=[]\n",
    "\n",
    "for word in sentence:\n",
    "    token_list.append(tokenizer.word_index[word])\n",
    "\n",
    "print(token_list)"
   ]
  },
  {
   "cell_type": "code",
   "execution_count": 19,
   "metadata": {},
   "outputs": [
    {
     "name": "stdout",
     "output_type": "stream",
     "text": [
      "token list: [ 0  0  0  4  2 66  8 67 68 69]\n",
      "decoded to text: ['in the town of athy one jeremy']\n"
     ]
    }
   ],
   "source": [
    "elem_number = 6\n",
    "\n",
    "print(f\"token list: {xs[elem_number]}\")\n",
    "print(f\"decoded to text: {tokenizer.sequences_to_texts([xs[elem_number]])}\")"
   ]
  },
  {
   "cell_type": "code",
   "execution_count": 20,
   "metadata": {},
   "outputs": [
    {
     "name": "stdout",
     "output_type": "stream",
     "text": [
      "one hot label [0. 0. 0. 0. 0. 0. 0. 0. 0. 0. 0. 0. 0. 0. 0. 0. 0. 0. 0. 0. 0. 0. 0. 0.\n",
      " 0. 0. 0. 0. 0. 0. 0. 0. 0. 0. 0. 0. 0. 0. 0. 0. 0. 0. 0. 0. 0. 0. 0. 0.\n",
      " 0. 0. 0. 0. 0. 0. 0. 0. 0. 0. 0. 0. 0. 0. 0. 0. 0. 0. 0. 0. 0. 0. 1. 0.\n",
      " 0. 0. 0. 0. 0. 0. 0. 0. 0. 0. 0. 0. 0. 0. 0. 0. 0. 0. 0. 0. 0. 0. 0. 0.\n",
      " 0. 0. 0. 0. 0. 0. 0. 0. 0. 0. 0. 0. 0. 0. 0. 0. 0. 0. 0. 0. 0. 0. 0. 0.\n",
      " 0. 0. 0. 0. 0. 0. 0. 0. 0. 0. 0. 0. 0. 0. 0. 0. 0. 0. 0. 0. 0. 0. 0. 0.\n",
      " 0. 0. 0. 0. 0. 0. 0. 0. 0. 0. 0. 0. 0. 0. 0. 0. 0. 0. 0. 0. 0. 0. 0. 0.\n",
      " 0. 0. 0. 0. 0. 0. 0. 0. 0. 0. 0. 0. 0. 0. 0. 0. 0. 0. 0. 0. 0. 0. 0. 0.\n",
      " 0. 0. 0. 0. 0. 0. 0. 0. 0. 0. 0. 0. 0. 0. 0. 0. 0. 0. 0. 0. 0. 0. 0. 0.\n",
      " 0. 0. 0. 0. 0. 0. 0. 0. 0. 0. 0. 0. 0. 0. 0. 0. 0. 0. 0. 0. 0. 0. 0. 0.\n",
      " 0. 0. 0. 0. 0. 0. 0. 0. 0. 0. 0. 0. 0. 0. 0. 0. 0. 0. 0. 0. 0. 0. 0.]\n",
      "index 70\n"
     ]
    }
   ],
   "source": [
    "print(f\"one hot label {ys[elem_number]}\")\n",
    "print(f\"index {np.argmax(ys[elem_number])}\")"
   ]
  },
  {
   "cell_type": "markdown",
   "metadata": {},
   "source": [
    "## Build the Model\n",
    "\n",
    "Next, you will build the model with basically the same layers as before. The main difference is you will remove the sigmoid output and use a softmax activated `Dense` layer instead. This output layer will have one neuron for each word in the vocabulary. So given an input token list, the output array of the final layer will have the probabilities for each word."
   ]
  },
  {
   "cell_type": "code",
   "execution_count": 25,
   "metadata": {},
   "outputs": [
    {
     "name": "stdout",
     "output_type": "stream",
     "text": [
      "Model: \"sequential_1\"\n",
      "_________________________________________________________________\n",
      " Layer (type)                Output Shape              Param #   \n",
      "=================================================================\n",
      " embedding_1 (Embedding)     (None, 10, 64)            16832     \n",
      "                                                                 \n",
      " bidirectional_1 (Bidirecti  (None, 40)                13600     \n",
      " onal)                                                           \n",
      "                                                                 \n",
      " dense_1 (Dense)             (None, 263)               10783     \n",
      "                                                                 \n",
      "=================================================================\n",
      "Total params: 41215 (161.00 KB)\n",
      "Trainable params: 41215 (161.00 KB)\n",
      "Non-trainable params: 0 (0.00 Byte)\n",
      "_________________________________________________________________\n"
     ]
    }
   ],
   "source": [
    "model = Sequential([\n",
    "    Embedding(total_words, 64, input_length = max_sequence_len-1),\n",
    "    Bidirectional(LSTM(20)),\n",
    "    Dense(total_words, activation='softmax')    \n",
    "])\n",
    "\n",
    "model.compile(loss='categorical_crossentropy', optimizer='adam', metrics=['accuracy'])\n",
    "model.summary()"
   ]
  },
  {
   "cell_type": "code",
   "execution_count": 26,
   "metadata": {},
   "outputs": [
    {
     "name": "stdout",
     "output_type": "stream",
     "text": [
      "Epoch 1/100\n",
      "15/15 [==============================] - 6s 16ms/step - loss: 5.5707 - accuracy: 0.0132\n",
      "Epoch 2/100\n",
      "15/15 [==============================] - 0s 12ms/step - loss: 5.5515 - accuracy: 0.0574\n",
      "Epoch 3/100\n",
      "15/15 [==============================] - 0s 16ms/step - loss: 5.5175 - accuracy: 0.0530\n",
      "Epoch 4/100\n",
      "15/15 [==============================] - 0s 11ms/step - loss: 5.4062 - accuracy: 0.0508\n",
      "Epoch 5/100\n",
      "15/15 [==============================] - 0s 10ms/step - loss: 5.1795 - accuracy: 0.0486\n",
      "Epoch 6/100\n",
      "15/15 [==============================] - 0s 9ms/step - loss: 5.0708 - accuracy: 0.0486\n",
      "Epoch 7/100\n",
      "15/15 [==============================] - 0s 9ms/step - loss: 5.0283 - accuracy: 0.0640\n",
      "Epoch 8/100\n",
      "15/15 [==============================] - 0s 9ms/step - loss: 4.9919 - accuracy: 0.0618\n",
      "Epoch 9/100\n",
      "15/15 [==============================] - 0s 11ms/step - loss: 4.9574 - accuracy: 0.0640\n",
      "Epoch 10/100\n",
      "15/15 [==============================] - 0s 12ms/step - loss: 4.9176 - accuracy: 0.0706\n",
      "Epoch 11/100\n",
      "15/15 [==============================] - 0s 10ms/step - loss: 4.8652 - accuracy: 0.0662\n",
      "Epoch 12/100\n",
      "15/15 [==============================] - 0s 10ms/step - loss: 4.8138 - accuracy: 0.0662\n",
      "Epoch 13/100\n",
      "15/15 [==============================] - 0s 9ms/step - loss: 4.7560 - accuracy: 0.0706\n",
      "Epoch 14/100\n",
      "15/15 [==============================] - 0s 9ms/step - loss: 4.6963 - accuracy: 0.0684\n",
      "Epoch 15/100\n",
      "15/15 [==============================] - 0s 9ms/step - loss: 4.6337 - accuracy: 0.0728\n",
      "Epoch 16/100\n",
      "15/15 [==============================] - 0s 10ms/step - loss: 4.5766 - accuracy: 0.0795\n",
      "Epoch 17/100\n",
      "15/15 [==============================] - 0s 11ms/step - loss: 4.5221 - accuracy: 0.0817\n",
      "Epoch 18/100\n",
      "15/15 [==============================] - 0s 10ms/step - loss: 4.4707 - accuracy: 0.0883\n",
      "Epoch 19/100\n",
      "15/15 [==============================] - 0s 9ms/step - loss: 4.4176 - accuracy: 0.1038\n",
      "Epoch 20/100\n",
      "15/15 [==============================] - 0s 9ms/step - loss: 4.3771 - accuracy: 0.1038\n",
      "Epoch 21/100\n",
      "15/15 [==============================] - 0s 10ms/step - loss: 4.3275 - accuracy: 0.1192\n",
      "Epoch 22/100\n",
      "15/15 [==============================] - 0s 12ms/step - loss: 4.3014 - accuracy: 0.1170\n",
      "Epoch 23/100\n",
      "15/15 [==============================] - 0s 11ms/step - loss: 4.2561 - accuracy: 0.1369\n",
      "Epoch 24/100\n",
      "15/15 [==============================] - 0s 10ms/step - loss: 4.2203 - accuracy: 0.1435\n",
      "Epoch 25/100\n",
      "15/15 [==============================] - 0s 10ms/step - loss: 4.1758 - accuracy: 0.1391\n",
      "Epoch 26/100\n",
      "15/15 [==============================] - 0s 9ms/step - loss: 4.1378 - accuracy: 0.1656\n",
      "Epoch 27/100\n",
      "15/15 [==============================] - 0s 9ms/step - loss: 4.0975 - accuracy: 0.1700\n",
      "Epoch 28/100\n",
      "15/15 [==============================] - 0s 12ms/step - loss: 4.0621 - accuracy: 0.1611\n",
      "Epoch 29/100\n",
      "15/15 [==============================] - 0s 15ms/step - loss: 4.0270 - accuracy: 0.1589\n",
      "Epoch 30/100\n",
      "15/15 [==============================] - 0s 13ms/step - loss: 3.9894 - accuracy: 0.1656\n",
      "Epoch 31/100\n",
      "15/15 [==============================] - 0s 11ms/step - loss: 3.9546 - accuracy: 0.1678\n",
      "Epoch 32/100\n",
      "15/15 [==============================] - 0s 11ms/step - loss: 3.9187 - accuracy: 0.1810\n",
      "Epoch 33/100\n",
      "15/15 [==============================] - 0s 13ms/step - loss: 3.8814 - accuracy: 0.1832\n",
      "Epoch 34/100\n",
      "15/15 [==============================] - 0s 15ms/step - loss: 3.8567 - accuracy: 0.1810\n",
      "Epoch 35/100\n",
      "15/15 [==============================] - 0s 12ms/step - loss: 3.8343 - accuracy: 0.2053\n",
      "Epoch 36/100\n",
      "15/15 [==============================] - 0s 12ms/step - loss: 3.7934 - accuracy: 0.2031\n",
      "Epoch 37/100\n",
      "15/15 [==============================] - 0s 12ms/step - loss: 3.7602 - accuracy: 0.1987\n",
      "Epoch 38/100\n",
      "15/15 [==============================] - 0s 12ms/step - loss: 3.7360 - accuracy: 0.2141\n",
      "Epoch 39/100\n",
      "15/15 [==============================] - 0s 17ms/step - loss: 3.6900 - accuracy: 0.2208\n",
      "Epoch 40/100\n",
      "15/15 [==============================] - 0s 14ms/step - loss: 3.6433 - accuracy: 0.2185\n",
      "Epoch 41/100\n",
      "15/15 [==============================] - 0s 11ms/step - loss: 3.6224 - accuracy: 0.2318\n",
      "Epoch 42/100\n",
      "15/15 [==============================] - 0s 11ms/step - loss: 3.5837 - accuracy: 0.2252\n",
      "Epoch 43/100\n",
      "15/15 [==============================] - 0s 11ms/step - loss: 3.5434 - accuracy: 0.2450\n",
      "Epoch 44/100\n",
      "15/15 [==============================] - 0s 11ms/step - loss: 3.5025 - accuracy: 0.2406\n",
      "Epoch 45/100\n",
      "15/15 [==============================] - 0s 18ms/step - loss: 3.4651 - accuracy: 0.2517\n",
      "Epoch 46/100\n",
      "15/15 [==============================] - 0s 17ms/step - loss: 3.4295 - accuracy: 0.2605\n",
      "Epoch 47/100\n",
      "15/15 [==============================] - 0s 17ms/step - loss: 3.3908 - accuracy: 0.2715\n",
      "Epoch 48/100\n",
      "15/15 [==============================] - 0s 12ms/step - loss: 3.3804 - accuracy: 0.2583\n",
      "Epoch 49/100\n",
      "15/15 [==============================] - 0s 19ms/step - loss: 3.3293 - accuracy: 0.2759\n",
      "Epoch 50/100\n",
      "15/15 [==============================] - 0s 17ms/step - loss: 3.2922 - accuracy: 0.2892\n",
      "Epoch 51/100\n",
      "15/15 [==============================] - 0s 12ms/step - loss: 3.2572 - accuracy: 0.2958\n",
      "Epoch 52/100\n",
      "15/15 [==============================] - 0s 15ms/step - loss: 3.2270 - accuracy: 0.3024\n",
      "Epoch 53/100\n",
      "15/15 [==============================] - 0s 13ms/step - loss: 3.1985 - accuracy: 0.3113\n",
      "Epoch 54/100\n",
      "15/15 [==============================] - 0s 13ms/step - loss: 3.1650 - accuracy: 0.3157\n",
      "Epoch 55/100\n",
      "15/15 [==============================] - 0s 12ms/step - loss: 3.1437 - accuracy: 0.3135\n",
      "Epoch 56/100\n",
      "15/15 [==============================] - 0s 13ms/step - loss: 3.1246 - accuracy: 0.3311\n",
      "Epoch 57/100\n",
      "15/15 [==============================] - 0s 13ms/step - loss: 3.0824 - accuracy: 0.3377\n",
      "Epoch 58/100\n",
      "15/15 [==============================] - 0s 13ms/step - loss: 3.0515 - accuracy: 0.3466\n",
      "Epoch 59/100\n",
      "15/15 [==============================] - 0s 13ms/step - loss: 3.0192 - accuracy: 0.3576\n",
      "Epoch 60/100\n",
      "15/15 [==============================] - 0s 12ms/step - loss: 2.9832 - accuracy: 0.3642\n",
      "Epoch 61/100\n",
      "15/15 [==============================] - 0s 11ms/step - loss: 2.9469 - accuracy: 0.3841\n",
      "Epoch 62/100\n",
      "15/15 [==============================] - 0s 11ms/step - loss: 2.9182 - accuracy: 0.3885\n",
      "Epoch 63/100\n",
      "15/15 [==============================] - 0s 16ms/step - loss: 2.8935 - accuracy: 0.3907\n",
      "Epoch 64/100\n",
      "15/15 [==============================] - 0s 16ms/step - loss: 2.8704 - accuracy: 0.3974\n",
      "Epoch 65/100\n",
      "15/15 [==============================] - 0s 11ms/step - loss: 2.8375 - accuracy: 0.3951\n",
      "Epoch 66/100\n",
      "15/15 [==============================] - 0s 11ms/step - loss: 2.7948 - accuracy: 0.4150\n",
      "Epoch 67/100\n",
      "15/15 [==============================] - 0s 13ms/step - loss: 2.7684 - accuracy: 0.4172\n",
      "Epoch 68/100\n",
      "15/15 [==============================] - 0s 12ms/step - loss: 2.7454 - accuracy: 0.4238\n",
      "Epoch 69/100\n",
      "15/15 [==============================] - 0s 11ms/step - loss: 2.7142 - accuracy: 0.4349\n",
      "Epoch 70/100\n",
      "15/15 [==============================] - 0s 11ms/step - loss: 2.6802 - accuracy: 0.4570\n",
      "Epoch 71/100\n",
      "15/15 [==============================] - 0s 13ms/step - loss: 2.6523 - accuracy: 0.4658\n",
      "Epoch 72/100\n",
      "15/15 [==============================] - 0s 18ms/step - loss: 2.6316 - accuracy: 0.4658\n",
      "Epoch 73/100\n",
      "15/15 [==============================] - 0s 15ms/step - loss: 2.6121 - accuracy: 0.4768\n",
      "Epoch 74/100\n",
      "15/15 [==============================] - 0s 11ms/step - loss: 2.5844 - accuracy: 0.4768\n",
      "Epoch 75/100\n",
      "15/15 [==============================] - 0s 12ms/step - loss: 2.5720 - accuracy: 0.4834\n",
      "Epoch 76/100\n",
      "15/15 [==============================] - 0s 16ms/step - loss: 2.5655 - accuracy: 0.4746\n",
      "Epoch 77/100\n",
      "15/15 [==============================] - 0s 14ms/step - loss: 2.5219 - accuracy: 0.5143\n",
      "Epoch 78/100\n",
      "15/15 [==============================] - 0s 11ms/step - loss: 2.4844 - accuracy: 0.5055\n",
      "Epoch 79/100\n",
      "15/15 [==============================] - 0s 12ms/step - loss: 2.4612 - accuracy: 0.5143\n",
      "Epoch 80/100\n",
      "15/15 [==============================] - 0s 12ms/step - loss: 2.4368 - accuracy: 0.5298\n",
      "Epoch 81/100\n",
      "15/15 [==============================] - 0s 12ms/step - loss: 2.4262 - accuracy: 0.5188\n",
      "Epoch 82/100\n",
      "15/15 [==============================] - 0s 11ms/step - loss: 2.3926 - accuracy: 0.5298\n",
      "Epoch 83/100\n",
      "15/15 [==============================] - 0s 12ms/step - loss: 2.3559 - accuracy: 0.5320\n",
      "Epoch 84/100\n",
      "15/15 [==============================] - 0s 11ms/step - loss: 2.3287 - accuracy: 0.5497\n",
      "Epoch 85/100\n",
      "15/15 [==============================] - 0s 11ms/step - loss: 2.3092 - accuracy: 0.5519\n",
      "Epoch 86/100\n",
      "15/15 [==============================] - 0s 12ms/step - loss: 2.2705 - accuracy: 0.5651\n",
      "Epoch 87/100\n",
      "15/15 [==============================] - 0s 13ms/step - loss: 2.2463 - accuracy: 0.5762\n",
      "Epoch 88/100\n",
      "15/15 [==============================] - 0s 11ms/step - loss: 2.2231 - accuracy: 0.5872\n",
      "Epoch 89/100\n",
      "15/15 [==============================] - 0s 14ms/step - loss: 2.2043 - accuracy: 0.5850\n",
      "Epoch 90/100\n",
      "15/15 [==============================] - 0s 11ms/step - loss: 2.1879 - accuracy: 0.5916\n",
      "Epoch 91/100\n",
      "15/15 [==============================] - 0s 11ms/step - loss: 2.1624 - accuracy: 0.5960\n",
      "Epoch 92/100\n",
      "15/15 [==============================] - 0s 11ms/step - loss: 2.1474 - accuracy: 0.5938\n",
      "Epoch 93/100\n",
      "15/15 [==============================] - 0s 15ms/step - loss: 2.1301 - accuracy: 0.6004\n",
      "Epoch 94/100\n",
      "15/15 [==============================] - 0s 14ms/step - loss: 2.1048 - accuracy: 0.6093\n",
      "Epoch 95/100\n",
      "15/15 [==============================] - 0s 11ms/step - loss: 2.0896 - accuracy: 0.6203\n",
      "Epoch 96/100\n",
      "15/15 [==============================] - 0s 22ms/step - loss: 2.0612 - accuracy: 0.6336\n",
      "Epoch 97/100\n",
      "15/15 [==============================] - 0s 15ms/step - loss: 2.0349 - accuracy: 0.6247\n",
      "Epoch 98/100\n",
      "15/15 [==============================] - 0s 11ms/step - loss: 2.0183 - accuracy: 0.6380\n",
      "Epoch 99/100\n",
      "15/15 [==============================] - 0s 12ms/step - loss: 1.9903 - accuracy: 0.6446\n",
      "Epoch 100/100\n",
      "15/15 [==============================] - 0s 12ms/step - loss: 1.9650 - accuracy: 0.6468\n"
     ]
    }
   ],
   "source": [
    "history = model.fit(xs, ys, epochs=100)"
   ]
  },
  {
   "cell_type": "markdown",
   "metadata": {},
   "source": [
    "## Generating Text\n",
    "\n",
    "With the model trained, you can now use it to make its own song! The process would look like:\n",
    "\n",
    "1. Feed a seed text to initiate the process.\n",
    "2. Model predicts the index of the most probable next word.\n",
    "3. Look up the index in the reverse word index dictionary\n",
    "4. Append the next word to the seed text.\n",
    "5. Feed the result to the model again.\n",
    "\n",
    "Steps 2 to 5 will repeat until the desired length of the song is reached. See how it is implemented in the code below:"
   ]
  },
  {
   "cell_type": "code",
   "execution_count": 27,
   "metadata": {},
   "outputs": [
    {
     "name": "stdout",
     "output_type": "stream",
     "text": [
      "range(0, 100)\n"
     ]
    }
   ],
   "source": [
    "test = 100\n",
    "r = range(test)\n",
    "print(r)"
   ]
  },
  {
   "cell_type": "code",
   "execution_count": 34,
   "metadata": {},
   "outputs": [],
   "source": [
    "original_seed_text = \"Laurence went to Dublin\"\n",
    "next_words = 100"
   ]
  },
  {
   "cell_type": "code",
   "execution_count": 31,
   "metadata": {},
   "outputs": [
    {
     "name": "stdout",
     "output_type": "stream",
     "text": [
      "1/1 [==============================] - 0s 31ms/step\n",
      "1/1 [==============================] - 0s 27ms/step\n",
      "1/1 [==============================] - 0s 32ms/step\n",
      "1/1 [==============================] - 0s 22ms/step\n",
      "1/1 [==============================] - 0s 25ms/step\n",
      "1/1 [==============================] - 0s 21ms/step\n",
      "1/1 [==============================] - 0s 23ms/step\n",
      "1/1 [==============================] - 0s 23ms/step\n",
      "1/1 [==============================] - 0s 37ms/step\n",
      "1/1 [==============================] - 0s 29ms/step\n",
      "1/1 [==============================] - 0s 33ms/step\n",
      "1/1 [==============================] - 0s 32ms/step\n",
      "1/1 [==============================] - 0s 22ms/step\n",
      "1/1 [==============================] - 0s 23ms/step\n",
      "1/1 [==============================] - 0s 26ms/step\n",
      "1/1 [==============================] - 0s 20ms/step\n",
      "1/1 [==============================] - 0s 22ms/step\n",
      "1/1 [==============================] - 0s 22ms/step\n",
      "1/1 [==============================] - 0s 23ms/step\n",
      "1/1 [==============================] - 0s 23ms/step\n",
      "1/1 [==============================] - 0s 21ms/step\n",
      "1/1 [==============================] - 0s 23ms/step\n",
      "1/1 [==============================] - 0s 22ms/step\n",
      "1/1 [==============================] - 0s 21ms/step\n",
      "1/1 [==============================] - 0s 22ms/step\n",
      "1/1 [==============================] - 0s 24ms/step\n",
      "1/1 [==============================] - 0s 26ms/step\n",
      "1/1 [==============================] - 0s 29ms/step\n",
      "1/1 [==============================] - 0s 34ms/step\n",
      "1/1 [==============================] - 0s 28ms/step\n",
      "1/1 [==============================] - 0s 24ms/step\n",
      "1/1 [==============================] - 0s 23ms/step\n",
      "1/1 [==============================] - 0s 28ms/step\n",
      "1/1 [==============================] - 0s 31ms/step\n",
      "1/1 [==============================] - 0s 27ms/step\n",
      "1/1 [==============================] - 0s 22ms/step\n",
      "1/1 [==============================] - 0s 21ms/step\n",
      "1/1 [==============================] - 0s 23ms/step\n",
      "1/1 [==============================] - 0s 23ms/step\n",
      "1/1 [==============================] - 0s 22ms/step\n",
      "1/1 [==============================] - 0s 26ms/step\n",
      "1/1 [==============================] - 0s 21ms/step\n",
      "1/1 [==============================] - 0s 23ms/step\n",
      "1/1 [==============================] - 0s 21ms/step\n",
      "1/1 [==============================] - 0s 21ms/step\n",
      "1/1 [==============================] - 0s 20ms/step\n",
      "1/1 [==============================] - 0s 23ms/step\n",
      "1/1 [==============================] - 0s 20ms/step\n",
      "1/1 [==============================] - 0s 23ms/step\n",
      "1/1 [==============================] - 0s 20ms/step\n",
      "1/1 [==============================] - 0s 29ms/step\n",
      "1/1 [==============================] - 0s 20ms/step\n",
      "1/1 [==============================] - 0s 21ms/step\n",
      "1/1 [==============================] - 0s 20ms/step\n",
      "1/1 [==============================] - 0s 25ms/step\n",
      "1/1 [==============================] - 0s 27ms/step\n",
      "1/1 [==============================] - 0s 25ms/step\n",
      "1/1 [==============================] - 0s 31ms/step\n",
      "1/1 [==============================] - 0s 24ms/step\n",
      "1/1 [==============================] - 0s 23ms/step\n",
      "1/1 [==============================] - 0s 21ms/step\n",
      "1/1 [==============================] - 0s 21ms/step\n",
      "1/1 [==============================] - 0s 21ms/step\n",
      "1/1 [==============================] - 0s 21ms/step\n",
      "1/1 [==============================] - 0s 21ms/step\n",
      "1/1 [==============================] - 0s 23ms/step\n",
      "1/1 [==============================] - 0s 23ms/step\n",
      "1/1 [==============================] - 0s 21ms/step\n",
      "1/1 [==============================] - 0s 22ms/step\n",
      "1/1 [==============================] - 0s 20ms/step\n",
      "1/1 [==============================] - 0s 31ms/step\n",
      "1/1 [==============================] - 0s 19ms/step\n",
      "1/1 [==============================] - 0s 21ms/step\n",
      "1/1 [==============================] - 0s 27ms/step\n",
      "1/1 [==============================] - 0s 21ms/step\n",
      "1/1 [==============================] - 0s 23ms/step\n",
      "1/1 [==============================] - 0s 22ms/step\n",
      "1/1 [==============================] - 0s 20ms/step\n",
      "1/1 [==============================] - 0s 21ms/step\n",
      "1/1 [==============================] - 0s 21ms/step\n",
      "1/1 [==============================] - 0s 22ms/step\n",
      "1/1 [==============================] - 0s 21ms/step\n",
      "1/1 [==============================] - 0s 25ms/step\n",
      "1/1 [==============================] - 0s 21ms/step\n",
      "1/1 [==============================] - 0s 20ms/step\n",
      "1/1 [==============================] - 0s 21ms/step\n",
      "1/1 [==============================] - 0s 21ms/step\n",
      "1/1 [==============================] - 0s 21ms/step\n",
      "1/1 [==============================] - 0s 21ms/step\n",
      "1/1 [==============================] - 0s 21ms/step\n",
      "1/1 [==============================] - 0s 20ms/step\n",
      "1/1 [==============================] - 0s 20ms/step\n",
      "1/1 [==============================] - 0s 20ms/step\n",
      "1/1 [==============================] - 0s 23ms/step\n",
      "1/1 [==============================] - 0s 20ms/step\n",
      "1/1 [==============================] - 0s 22ms/step\n",
      "1/1 [==============================] - 0s 23ms/step\n",
      "1/1 [==============================] - 0s 20ms/step\n",
      "1/1 [==============================] - 0s 23ms/step\n",
      "1/1 [==============================] - 0s 20ms/step\n",
      "Laurence went to Dublin and we banished as nonsense nonsense glisten glisten academy relations he eyes relations tea tea relations relations relations relations them and tea relations relations relations relations relations suppose relations tea all relations relations relations relations relations relations relations relations relations ground suppose tea tea tea tea tea tea tea relations relations relations relations relations relations relations relations relations relations suppose tea tea tea tea tea tea tea relations relations relations relations relations relations relations relations relations relations suppose tea tea tea tea tea tea tea relations relations relations relations relations relations relations relations relations relations suppose tea tea tea tea\n"
     ]
    }
   ],
   "source": [
    "seed_text = original_seed_text\n",
    "\n",
    "for _ in range(next_words):\n",
    "    token_list = tokenizer.texts_to_sequences([seed_text])[0]\n",
    "    \n",
    "    token_list = pad_sequences([token_list], maxlen=max_sequence_len-1, padding='pre')\n",
    "    \n",
    "    probabilities = model.predict(np.array(token_list))\n",
    "    \n",
    "    predicted = np.argmax(probabilities, axis=-1)[0]\n",
    "    \n",
    "    if predicted != 0:\n",
    "        output_word = tokenizer.index_word[predicted]\n",
    "        seed_text += \" \" + output_word\n",
    "    \n",
    "\n",
    "print(seed_text)"
   ]
  },
  {
   "cell_type": "code",
   "execution_count": 35,
   "metadata": {},
   "outputs": [
    {
     "name": "stdout",
     "output_type": "stream",
     "text": [
      "1/1 [==============================] - 0s 31ms/step\n"
     ]
    },
    {
     "ename": "TypeError",
     "evalue": "'dict' object is not callable",
     "output_type": "error",
     "traceback": [
      "\u001b[0;31m---------------------------------------------------------------------------\u001b[0m",
      "\u001b[0;31mTypeError\u001b[0m                                 Traceback (most recent call last)",
      "\u001b[1;32m/home/mbarbaric/dev/python/Coursera-Natural-Language-Processing-in-TensorFlow/W4/lab1.ipynb Cell 18\u001b[0m line \u001b[0;36m1\n\u001b[1;32m     <a href='vscode-notebook-cell://wsl%2Bubuntu/home/mbarbaric/dev/python/Coursera-Natural-Language-Processing-in-TensorFlow/W4/lab1.ipynb#X23sdnNjb2RlLXJlbW90ZQ%3D%3D?line=11'>12</a>\u001b[0m     predicted \u001b[39m=\u001b[39m np\u001b[39m.\u001b[39margsort(probabilities)[\u001b[39m0\u001b[39m][\u001b[39m-\u001b[39mchoice]\n\u001b[1;32m     <a href='vscode-notebook-cell://wsl%2Bubuntu/home/mbarbaric/dev/python/Coursera-Natural-Language-Processing-in-TensorFlow/W4/lab1.ipynb#X23sdnNjb2RlLXJlbW90ZQ%3D%3D?line=13'>14</a>\u001b[0m     \u001b[39mif\u001b[39;00m predicted \u001b[39m!=\u001b[39m \u001b[39m0\u001b[39m:\n\u001b[0;32m---> <a href='vscode-notebook-cell://wsl%2Bubuntu/home/mbarbaric/dev/python/Coursera-Natural-Language-Processing-in-TensorFlow/W4/lab1.ipynb#X23sdnNjb2RlLXJlbW90ZQ%3D%3D?line=14'>15</a>\u001b[0m         output_word \u001b[39m=\u001b[39m tokenizer\u001b[39m.\u001b[39;49mindex_word(predicted)\n\u001b[1;32m     <a href='vscode-notebook-cell://wsl%2Bubuntu/home/mbarbaric/dev/python/Coursera-Natural-Language-Processing-in-TensorFlow/W4/lab1.ipynb#X23sdnNjb2RlLXJlbW90ZQ%3D%3D?line=15'>16</a>\u001b[0m         seed_text \u001b[39m+\u001b[39m\u001b[39m=\u001b[39m \u001b[39m\"\u001b[39m\u001b[39m \u001b[39m\u001b[39m\"\u001b[39m \u001b[39m+\u001b[39m output_word\n\u001b[1;32m     <a href='vscode-notebook-cell://wsl%2Bubuntu/home/mbarbaric/dev/python/Coursera-Natural-Language-Processing-in-TensorFlow/W4/lab1.ipynb#X23sdnNjb2RlLXJlbW90ZQ%3D%3D?line=17'>18</a>\u001b[0m \u001b[39mprint\u001b[39m(seed_text)\n",
      "\u001b[0;31mTypeError\u001b[0m: 'dict' object is not callable"
     ]
    }
   ],
   "source": [
    "seed_text = original_seed_text\n",
    "\n",
    "for _ in range(next_words):\n",
    "    token_list = tokenizer.texts_to_sequences([seed_text])[0]\n",
    "    \n",
    "    token_list = pad_sequences([token_list], maxlen=max_sequence_len - 1, padding='pre')\n",
    "    \n",
    "    probabilities = model.predict(token_list)\n",
    "    \n",
    "    choice = np.random.choice([1,2,3])\n",
    "    \n",
    "    predicted = np.argsort(probabilities)[0][-choice]\n",
    "    \n",
    "    if predicted != 0:\n",
    "        output_word = tokenizer.index_word[predicted]\n",
    "        seed_text += \" \" + output_word\n",
    "\n",
    "print(seed_text)"
   ]
  }
 ],
 "metadata": {
  "kernelspec": {
   "display_name": "trax",
   "language": "python",
   "name": "python3"
  },
  "language_info": {
   "codemirror_mode": {
    "name": "ipython",
    "version": 3
   },
   "file_extension": ".py",
   "mimetype": "text/x-python",
   "name": "python",
   "nbconvert_exporter": "python",
   "pygments_lexer": "ipython3",
   "version": "3.10.5"
  }
 },
 "nbformat": 4,
 "nbformat_minor": 2
}
