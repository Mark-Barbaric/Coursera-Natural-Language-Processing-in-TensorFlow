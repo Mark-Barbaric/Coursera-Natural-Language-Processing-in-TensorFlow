{
 "cells": [
  {
   "cell_type": "code",
   "execution_count": 17,
   "metadata": {},
   "outputs": [],
   "source": [
    "import json\n",
    "import tensorflow as tf"
   ]
  },
  {
   "cell_type": "code",
   "execution_count": 18,
   "metadata": {},
   "outputs": [],
   "source": [
    "from tensorflow.keras.preprocessing.text import Tokenizer\n",
    "from tensorflow.keras.preprocessing.sequence import pad_sequences"
   ]
  },
  {
   "cell_type": "markdown",
   "metadata": {},
   "source": [
    "## Hyperparameters\n",
    "\n",
    "We placed the hyperparameters in the cell below so you can easily tweak it later:"
   ]
  },
  {
   "cell_type": "code",
   "execution_count": 19,
   "metadata": {},
   "outputs": [],
   "source": [
    "datastore=[]\n",
    "\n",
    "with open(\"sarcasm.json\", 'r') as f:\n",
    "    for line in f:\n",
    "        datastore.append(json.loads(line))"
   ]
  },
  {
   "cell_type": "code",
   "execution_count": 20,
   "metadata": {},
   "outputs": [],
   "source": [
    "sentences = []\n",
    "labels = []\n",
    "\n",
    "for item in datastore:\n",
    "    sentences.append(item['headline'])\n",
    "    labels.append(item['is_sarcastic'])"
   ]
  },
  {
   "cell_type": "markdown",
   "metadata": {},
   "source": [
    "## \n",
    "\n",
    "This is an extension of the week2 lab from the Coursera Course Natural Language Processing in Tensorflow. There was a section in the week's tutorials which demonstrated how model loss changed as you varied the embedding_layers, vocab_size etc. which was used for tokenization and model generation. I decided to split out the separate sections related to creating the model into methods so that I could try this."
   ]
  },
  {
   "cell_type": "markdown",
   "metadata": {},
   "source": [
    "## Hyperparameters"
   ]
  },
  {
   "cell_type": "code",
   "execution_count": 21,
   "metadata": {},
   "outputs": [],
   "source": [
    "class HyperParam:\n",
    "\n",
    "    def __init__(self, name:str, vocab_size:int, embedding_dim:int, max_length:int, training_size:int):\n",
    "        self._name=name\n",
    "        self._vocab_size=vocab_size\n",
    "        self._embedding_dim=embedding_dim\n",
    "        self._max_length=max_length\n",
    "        self._training_size=training_size\n",
    "        self._trunc_type='post'\n",
    "        self._padding_type='post'\n",
    "        self._oov_tok=\"<OOV>\"\n",
    "    \n",
    "\n",
    "    def __str__(self):\n",
    "        return f\"name: {self._name}, vocab_size: {self._vocab_size}, embedding_dim: {self._embedding_dim}\""
   ]
  },
  {
   "cell_type": "markdown",
   "metadata": {},
   "source": [
    "## Data Splitting / Model Definition Methods"
   ]
  },
  {
   "cell_type": "code",
   "execution_count": 22,
   "metadata": {},
   "outputs": [],
   "source": [
    "import numpy as np\n",
    "from tensorflow.keras.preprocessing.text import Tokenizer\n",
    "from tensorflow.keras.preprocessing.sequence import pad_sequences\n",
    "\n",
    "\n",
    "def get_testing_and_training_sequences(tokens : list[str], labels : list[int], hyper_param : HyperParam):\n",
    "\n",
    "    training_sentences = tokens[0:hyper_param._training_size]\n",
    "    testing_sentences = tokens[hyper_param._training_size:]\n",
    "\n",
    "    training_labels = labels[0:hyper_param._training_size]\n",
    "    testing_labels = labels[hyper_param._training_size:]\n",
    "\n",
    "    training_tokenizer = Tokenizer(num_words=hyper_param._vocab_size, oov_token=hyper_param._oov_tok)\n",
    "    training_tokenizer.fit_on_texts(training_sentences)\n",
    "    word_index = training_tokenizer.word_index\n",
    "    \n",
    "    training_sequences = training_tokenizer.texts_to_sequences(training_sentences)\n",
    "    padded_training_sequences = pad_sequences(training_sequences, maxlen=hyper_param._max_length, padding=hyper_param._padding_type)\n",
    "\n",
    "    testing_sequences = training_tokenizer.texts_to_sequences(testing_sentences)\n",
    "    padded_testing_sequences = pad_sequences(testing_sequences, maxlen=hyper_param._max_length, padding=hyper_param._padding_type)\n",
    "\n",
    "    return padded_training_sequences, training_labels, padded_testing_sequences, testing_labels"
   ]
  },
  {
   "cell_type": "code",
   "execution_count": 23,
   "metadata": {},
   "outputs": [],
   "source": [
    "def get_model(vocab_size : int, embedding_dim : int, input_length : int):\n",
    "    model = tf.keras.Sequential([\n",
    "    tf.keras.layers.Embedding(vocab_size, embedding_dim, input_length=input_length),\n",
    "    tf.keras.layers.GlobalAveragePooling1D(),\n",
    "    tf.keras.layers.Dense(24, activation='relu'),\n",
    "    tf.keras.layers.Dense(1, activation='sigmoid')\n",
    "    ])\n",
    "    \n",
    "    return model"
   ]
  },
  {
   "cell_type": "code",
   "execution_count": 35,
   "metadata": {},
   "outputs": [],
   "source": [
    "import matplotlib.pyplot as plt\n",
    "\n",
    "# Plot utility\n",
    "def plot_graphs(history, name : str, loss_type : str):\n",
    "  plt.plot(history.history[loss_type])\n",
    "  plt.plot(history.history['val_'+loss_type])\n",
    "  plt.xlabel(\"Epochs\")\n",
    "  plt.title(name)\n",
    "  plt.legend([loss_type, 'val_'+loss_type])\n",
    "  plt.show()"
   ]
  },
  {
   "cell_type": "markdown",
   "metadata": {},
   "source": [
    "## Generate Model History"
   ]
  },
  {
   "cell_type": "code",
   "execution_count": 25,
   "metadata": {},
   "outputs": [],
   "source": [
    "hyper_params=[]"
   ]
  },
  {
   "cell_type": "code",
   "execution_count": null,
   "metadata": {},
   "outputs": [],
   "source": [
    "actual_max_len = max(len(s) for s in )"
   ]
  },
  {
   "cell_type": "code",
   "execution_count": 26,
   "metadata": {},
   "outputs": [],
   "source": [
    "hyper_params.append(HyperParam(name=\"model 1\", vocab_size=1000, embedding_dim=16, max_length=32, training_size=20000))\n",
    "hyper_params.append(HyperParam(name=\"model 2\", vocab_size=10000, embedding_dim=32, max_length=16, training_size=20000))\n",
    "hyper_params.append(HyperParam(name=\"model 3\", vocab_size=1000, embedding_dim=16, max_length=16, training_size=20000))"
   ]
  },
  {
   "cell_type": "code",
   "execution_count": 27,
   "metadata": {},
   "outputs": [
    {
     "name": "stdout",
     "output_type": "stream",
     "text": [
      "name: model 1, vocab_size: 1000, embedding_dim: 16\n"
     ]
    }
   ],
   "source": [
    "print(hyper_params[0])"
   ]
  },
  {
   "cell_type": "code",
   "execution_count": 28,
   "metadata": {},
   "outputs": [],
   "source": [
    "history=[]"
   ]
  },
  {
   "cell_type": "code",
   "execution_count": 29,
   "metadata": {},
   "outputs": [],
   "source": [
    "def compile_and_train_model(hyper_param : HyperParam, num_epochs : int):\n",
    "    padded_training_sequences, training_labels, padded_testing_sequences, testing_labels = get_testing_and_training_sequences(tokens=sentences, labels=labels, hyper_param=hyper_param)\n",
    "    training_labels = np.array(training_labels)\n",
    "    testing_labels = np.array(testing_labels)\n",
    "    model = get_model(vocab_size=hyper_param._vocab_size, embedding_dim=hyper_param._embedding_dim, input_length=hyper_param._max_length)\n",
    "    model.compile(loss='binary_crossentropy',optimizer='adam',metrics=['accuracy'])\n",
    "\n",
    "    # Train the model\n",
    "    return model.fit(padded_training_sequences, training_labels, epochs=num_epochs, validation_data=(padded_testing_sequences, testing_labels), verbose=2)"
   ]
  },
  {
   "cell_type": "markdown",
   "metadata": {},
   "source": [
    "Running all of the models and storing history."
   ]
  },
  {
   "cell_type": "code",
   "execution_count": 30,
   "metadata": {},
   "outputs": [
    {
     "name": "stdout",
     "output_type": "stream",
     "text": [
      "Epoch 1/30\n",
      "625/625 - 2s - loss: 0.5944 - accuracy: 0.6697 - val_loss: 0.4455 - val_accuracy: 0.7962 - 2s/epoch - 4ms/step\n",
      "Epoch 2/30\n",
      "625/625 - 2s - loss: 0.4009 - accuracy: 0.8166 - val_loss: 0.4032 - val_accuracy: 0.8117 - 2s/epoch - 2ms/step\n",
      "Epoch 3/30\n",
      "625/625 - 1s - loss: 0.3713 - accuracy: 0.8303 - val_loss: 0.4043 - val_accuracy: 0.8073 - 1s/epoch - 2ms/step\n",
      "Epoch 4/30\n",
      "625/625 - 1s - loss: 0.3614 - accuracy: 0.8348 - val_loss: 0.3984 - val_accuracy: 0.8141 - 1s/epoch - 2ms/step\n",
      "Epoch 5/30\n",
      "625/625 - 1s - loss: 0.3571 - accuracy: 0.8385 - val_loss: 0.3997 - val_accuracy: 0.8161 - 1s/epoch - 2ms/step\n",
      "Epoch 6/30\n",
      "625/625 - 1s - loss: 0.3526 - accuracy: 0.8403 - val_loss: 0.4115 - val_accuracy: 0.8131 - 1s/epoch - 2ms/step\n",
      "Epoch 7/30\n",
      "625/625 - 1s - loss: 0.3523 - accuracy: 0.8400 - val_loss: 0.4026 - val_accuracy: 0.8128 - 1s/epoch - 2ms/step\n",
      "Epoch 8/30\n",
      "625/625 - 1s - loss: 0.3499 - accuracy: 0.8415 - val_loss: 0.4041 - val_accuracy: 0.8129 - 1s/epoch - 2ms/step\n",
      "Epoch 9/30\n",
      "625/625 - 1s - loss: 0.3486 - accuracy: 0.8435 - val_loss: 0.4049 - val_accuracy: 0.8128 - 1s/epoch - 2ms/step\n",
      "Epoch 10/30\n",
      "625/625 - 1s - loss: 0.3486 - accuracy: 0.8408 - val_loss: 0.4070 - val_accuracy: 0.8107 - 1s/epoch - 2ms/step\n",
      "Epoch 11/30\n",
      "625/625 - 1s - loss: 0.3476 - accuracy: 0.8431 - val_loss: 0.4107 - val_accuracy: 0.8091 - 1s/epoch - 2ms/step\n",
      "Epoch 12/30\n",
      "625/625 - 1s - loss: 0.3474 - accuracy: 0.8433 - val_loss: 0.4082 - val_accuracy: 0.8107 - 1s/epoch - 2ms/step\n",
      "Epoch 13/30\n",
      "625/625 - 1s - loss: 0.3471 - accuracy: 0.8418 - val_loss: 0.4089 - val_accuracy: 0.8125 - 1s/epoch - 2ms/step\n",
      "Epoch 14/30\n",
      "625/625 - 1s - loss: 0.3469 - accuracy: 0.8422 - val_loss: 0.4083 - val_accuracy: 0.8135 - 1s/epoch - 2ms/step\n",
      "Epoch 15/30\n",
      "625/625 - 1s - loss: 0.3457 - accuracy: 0.8422 - val_loss: 0.4094 - val_accuracy: 0.8138 - 1s/epoch - 2ms/step\n",
      "Epoch 16/30\n",
      "625/625 - 1s - loss: 0.3446 - accuracy: 0.8457 - val_loss: 0.4078 - val_accuracy: 0.8104 - 1s/epoch - 2ms/step\n",
      "Epoch 17/30\n",
      "625/625 - 1s - loss: 0.3449 - accuracy: 0.8449 - val_loss: 0.4103 - val_accuracy: 0.8131 - 1s/epoch - 2ms/step\n",
      "Epoch 18/30\n",
      "625/625 - 1s - loss: 0.3443 - accuracy: 0.8429 - val_loss: 0.4084 - val_accuracy: 0.8125 - 1s/epoch - 2ms/step\n",
      "Epoch 19/30\n",
      "625/625 - 1s - loss: 0.3437 - accuracy: 0.8446 - val_loss: 0.4066 - val_accuracy: 0.8116 - 1s/epoch - 2ms/step\n",
      "Epoch 20/30\n",
      "625/625 - 2s - loss: 0.3418 - accuracy: 0.8435 - val_loss: 0.4078 - val_accuracy: 0.8126 - 2s/epoch - 3ms/step\n",
      "Epoch 21/30\n",
      "625/625 - 2s - loss: 0.3406 - accuracy: 0.8457 - val_loss: 0.4037 - val_accuracy: 0.8135 - 2s/epoch - 3ms/step\n",
      "Epoch 22/30\n",
      "625/625 - 1s - loss: 0.3381 - accuracy: 0.8472 - val_loss: 0.4070 - val_accuracy: 0.8064 - 1s/epoch - 2ms/step\n",
      "Epoch 23/30\n",
      "625/625 - 2s - loss: 0.3357 - accuracy: 0.8479 - val_loss: 0.4020 - val_accuracy: 0.8153 - 2s/epoch - 3ms/step\n",
      "Epoch 24/30\n",
      "625/625 - 1s - loss: 0.3338 - accuracy: 0.8486 - val_loss: 0.4008 - val_accuracy: 0.8152 - 1s/epoch - 2ms/step\n",
      "Epoch 25/30\n",
      "625/625 - 1s - loss: 0.3317 - accuracy: 0.8480 - val_loss: 0.3993 - val_accuracy: 0.8189 - 1s/epoch - 2ms/step\n",
      "Epoch 26/30\n",
      "625/625 - 1s - loss: 0.3300 - accuracy: 0.8511 - val_loss: 0.3977 - val_accuracy: 0.8205 - 1s/epoch - 2ms/step\n",
      "Epoch 27/30\n",
      "625/625 - 1s - loss: 0.3275 - accuracy: 0.8521 - val_loss: 0.4047 - val_accuracy: 0.8114 - 1s/epoch - 2ms/step\n",
      "Epoch 28/30\n",
      "625/625 - 1s - loss: 0.3263 - accuracy: 0.8522 - val_loss: 0.3968 - val_accuracy: 0.8211 - 1s/epoch - 2ms/step\n",
      "Epoch 29/30\n",
      "625/625 - 2s - loss: 0.3232 - accuracy: 0.8553 - val_loss: 0.3969 - val_accuracy: 0.8213 - 2s/epoch - 3ms/step\n",
      "Epoch 30/30\n",
      "625/625 - 1s - loss: 0.3216 - accuracy: 0.8543 - val_loss: 0.3972 - val_accuracy: 0.8211 - 1s/epoch - 2ms/step\n",
      "Epoch 1/30\n",
      "625/625 - 6s - loss: 0.4650 - accuracy: 0.7797 - val_loss: 0.3495 - val_accuracy: 0.8524 - 6s/epoch - 9ms/step\n",
      "Epoch 2/30\n",
      "625/625 - 4s - loss: 0.2528 - accuracy: 0.8988 - val_loss: 0.3495 - val_accuracy: 0.8506 - 4s/epoch - 6ms/step\n",
      "Epoch 3/30\n",
      "625/625 - 4s - loss: 0.1847 - accuracy: 0.9294 - val_loss: 0.3879 - val_accuracy: 0.8439 - 4s/epoch - 6ms/step\n",
      "Epoch 4/30\n",
      "625/625 - 4s - loss: 0.1454 - accuracy: 0.9458 - val_loss: 0.4353 - val_accuracy: 0.8442 - 4s/epoch - 6ms/step\n",
      "Epoch 5/30\n",
      "625/625 - 4s - loss: 0.1163 - accuracy: 0.9598 - val_loss: 0.4894 - val_accuracy: 0.8344 - 4s/epoch - 7ms/step\n",
      "Epoch 6/30\n",
      "625/625 - 4s - loss: 0.0954 - accuracy: 0.9656 - val_loss: 0.5639 - val_accuracy: 0.8308 - 4s/epoch - 6ms/step\n",
      "Epoch 7/30\n",
      "625/625 - 4s - loss: 0.0795 - accuracy: 0.9733 - val_loss: 0.6254 - val_accuracy: 0.8267 - 4s/epoch - 6ms/step\n",
      "Epoch 8/30\n",
      "625/625 - 4s - loss: 0.0681 - accuracy: 0.9769 - val_loss: 0.7006 - val_accuracy: 0.8213 - 4s/epoch - 6ms/step\n",
      "Epoch 9/30\n",
      "625/625 - 4s - loss: 0.0586 - accuracy: 0.9812 - val_loss: 0.7545 - val_accuracy: 0.8234 - 4s/epoch - 6ms/step\n",
      "Epoch 10/30\n",
      "625/625 - 4s - loss: 0.0513 - accuracy: 0.9840 - val_loss: 0.8123 - val_accuracy: 0.8198 - 4s/epoch - 6ms/step\n",
      "Epoch 11/30\n",
      "625/625 - 4s - loss: 0.0434 - accuracy: 0.9862 - val_loss: 0.8804 - val_accuracy: 0.8167 - 4s/epoch - 6ms/step\n",
      "Epoch 12/30\n",
      "625/625 - 4s - loss: 0.0382 - accuracy: 0.9882 - val_loss: 0.9527 - val_accuracy: 0.8183 - 4s/epoch - 6ms/step\n",
      "Epoch 13/30\n",
      "625/625 - 4s - loss: 0.0334 - accuracy: 0.9891 - val_loss: 1.0260 - val_accuracy: 0.8123 - 4s/epoch - 6ms/step\n",
      "Epoch 14/30\n",
      "625/625 - 4s - loss: 0.0295 - accuracy: 0.9901 - val_loss: 1.0990 - val_accuracy: 0.8123 - 4s/epoch - 7ms/step\n",
      "Epoch 15/30\n",
      "625/625 - 5s - loss: 0.0273 - accuracy: 0.9911 - val_loss: 1.1829 - val_accuracy: 0.8097 - 5s/epoch - 8ms/step\n",
      "Epoch 16/30\n",
      "625/625 - 5s - loss: 0.0241 - accuracy: 0.9918 - val_loss: 1.2447 - val_accuracy: 0.8070 - 5s/epoch - 8ms/step\n",
      "Epoch 17/30\n",
      "625/625 - 5s - loss: 0.0219 - accuracy: 0.9930 - val_loss: 1.3182 - val_accuracy: 0.8074 - 5s/epoch - 8ms/step\n",
      "Epoch 18/30\n",
      "625/625 - 5s - loss: 0.0180 - accuracy: 0.9948 - val_loss: 1.4096 - val_accuracy: 0.8070 - 5s/epoch - 8ms/step\n",
      "Epoch 19/30\n",
      "625/625 - 5s - loss: 0.0183 - accuracy: 0.9938 - val_loss: 1.4516 - val_accuracy: 0.8062 - 5s/epoch - 7ms/step\n",
      "Epoch 20/30\n",
      "625/625 - 5s - loss: 0.0161 - accuracy: 0.9953 - val_loss: 1.5301 - val_accuracy: 0.8079 - 5s/epoch - 8ms/step\n",
      "Epoch 21/30\n",
      "625/625 - 6s - loss: 0.0143 - accuracy: 0.9944 - val_loss: 1.6009 - val_accuracy: 0.8038 - 6s/epoch - 9ms/step\n",
      "Epoch 22/30\n",
      "625/625 - 4s - loss: 0.0135 - accuracy: 0.9952 - val_loss: 1.6734 - val_accuracy: 0.8068 - 4s/epoch - 6ms/step\n",
      "Epoch 23/30\n",
      "625/625 - 5s - loss: 0.0141 - accuracy: 0.9948 - val_loss: 1.7486 - val_accuracy: 0.8043 - 5s/epoch - 8ms/step\n",
      "Epoch 24/30\n",
      "625/625 - 4s - loss: 0.0115 - accuracy: 0.9955 - val_loss: 1.8782 - val_accuracy: 0.8030 - 4s/epoch - 7ms/step\n",
      "Epoch 25/30\n",
      "625/625 - 4s - loss: 0.0117 - accuracy: 0.9959 - val_loss: 1.8990 - val_accuracy: 0.8035 - 4s/epoch - 7ms/step\n",
      "Epoch 26/30\n",
      "625/625 - 4s - loss: 0.0097 - accuracy: 0.9965 - val_loss: 1.9586 - val_accuracy: 0.8053 - 4s/epoch - 6ms/step\n",
      "Epoch 27/30\n",
      "625/625 - 4s - loss: 0.0089 - accuracy: 0.9969 - val_loss: 2.0244 - val_accuracy: 0.8006 - 4s/epoch - 6ms/step\n",
      "Epoch 28/30\n",
      "625/625 - 4s - loss: 0.0083 - accuracy: 0.9969 - val_loss: 2.0971 - val_accuracy: 0.8043 - 4s/epoch - 6ms/step\n",
      "Epoch 29/30\n",
      "625/625 - 4s - loss: 0.0071 - accuracy: 0.9975 - val_loss: 2.1712 - val_accuracy: 0.8007 - 4s/epoch - 7ms/step\n",
      "Epoch 30/30\n",
      "625/625 - 6s - loss: 0.0081 - accuracy: 0.9973 - val_loss: 2.2290 - val_accuracy: 0.8032 - 6s/epoch - 9ms/step\n",
      "Epoch 1/30\n",
      "625/625 - 4s - loss: 0.5231 - accuracy: 0.7362 - val_loss: 0.4145 - val_accuracy: 0.8074 - 4s/epoch - 7ms/step\n",
      "Epoch 2/30\n",
      "625/625 - 2s - loss: 0.3804 - accuracy: 0.8281 - val_loss: 0.4009 - val_accuracy: 0.8117 - 2s/epoch - 4ms/step\n",
      "Epoch 3/30\n",
      "625/625 - 2s - loss: 0.3650 - accuracy: 0.8367 - val_loss: 0.4047 - val_accuracy: 0.8137 - 2s/epoch - 3ms/step\n",
      "Epoch 4/30\n",
      "625/625 - 2s - loss: 0.3591 - accuracy: 0.8375 - val_loss: 0.4048 - val_accuracy: 0.8119 - 2s/epoch - 3ms/step\n",
      "Epoch 5/30\n",
      "625/625 - 2s - loss: 0.3558 - accuracy: 0.8393 - val_loss: 0.4109 - val_accuracy: 0.8055 - 2s/epoch - 4ms/step\n",
      "Epoch 6/30\n",
      "625/625 - 3s - loss: 0.3544 - accuracy: 0.8374 - val_loss: 0.4081 - val_accuracy: 0.8123 - 3s/epoch - 4ms/step\n",
      "Epoch 7/30\n",
      "625/625 - 3s - loss: 0.3534 - accuracy: 0.8412 - val_loss: 0.4091 - val_accuracy: 0.8088 - 3s/epoch - 5ms/step\n",
      "Epoch 8/30\n",
      "625/625 - 3s - loss: 0.3522 - accuracy: 0.8394 - val_loss: 0.4109 - val_accuracy: 0.8088 - 3s/epoch - 4ms/step\n",
      "Epoch 9/30\n",
      "625/625 - 2s - loss: 0.3519 - accuracy: 0.8403 - val_loss: 0.4084 - val_accuracy: 0.8101 - 2s/epoch - 4ms/step\n",
      "Epoch 10/30\n",
      "625/625 - 1s - loss: 0.3510 - accuracy: 0.8414 - val_loss: 0.4085 - val_accuracy: 0.8116 - 1s/epoch - 2ms/step\n",
      "Epoch 11/30\n",
      "625/625 - 2s - loss: 0.3489 - accuracy: 0.8443 - val_loss: 0.4087 - val_accuracy: 0.8113 - 2s/epoch - 2ms/step\n",
      "Epoch 12/30\n",
      "625/625 - 2s - loss: 0.3481 - accuracy: 0.8406 - val_loss: 0.4089 - val_accuracy: 0.8088 - 2s/epoch - 2ms/step\n",
      "Epoch 13/30\n",
      "625/625 - 1s - loss: 0.3476 - accuracy: 0.8409 - val_loss: 0.4118 - val_accuracy: 0.8068 - 1s/epoch - 2ms/step\n",
      "Epoch 14/30\n",
      "625/625 - 1s - loss: 0.3453 - accuracy: 0.8425 - val_loss: 0.4065 - val_accuracy: 0.8117 - 1s/epoch - 2ms/step\n",
      "Epoch 15/30\n",
      "625/625 - 1s - loss: 0.3431 - accuracy: 0.8432 - val_loss: 0.4026 - val_accuracy: 0.8128 - 1s/epoch - 2ms/step\n",
      "Epoch 16/30\n",
      "625/625 - 1s - loss: 0.3398 - accuracy: 0.8453 - val_loss: 0.4010 - val_accuracy: 0.8146 - 1s/epoch - 2ms/step\n",
      "Epoch 17/30\n",
      "625/625 - 2s - loss: 0.3365 - accuracy: 0.8473 - val_loss: 0.4007 - val_accuracy: 0.8162 - 2s/epoch - 3ms/step\n",
      "Epoch 18/30\n",
      "625/625 - 2s - loss: 0.3344 - accuracy: 0.8483 - val_loss: 0.3973 - val_accuracy: 0.8201 - 2s/epoch - 2ms/step\n",
      "Epoch 19/30\n",
      "625/625 - 1s - loss: 0.3313 - accuracy: 0.8510 - val_loss: 0.4002 - val_accuracy: 0.8176 - 1s/epoch - 2ms/step\n",
      "Epoch 20/30\n",
      "625/625 - 1s - loss: 0.3289 - accuracy: 0.8532 - val_loss: 0.3980 - val_accuracy: 0.8188 - 1s/epoch - 2ms/step\n",
      "Epoch 21/30\n",
      "625/625 - 1s - loss: 0.3261 - accuracy: 0.8543 - val_loss: 0.4011 - val_accuracy: 0.8180 - 1s/epoch - 2ms/step\n",
      "Epoch 22/30\n",
      "625/625 - 1s - loss: 0.3236 - accuracy: 0.8550 - val_loss: 0.4020 - val_accuracy: 0.8176 - 1s/epoch - 2ms/step\n",
      "Epoch 23/30\n",
      "625/625 - 1s - loss: 0.3222 - accuracy: 0.8563 - val_loss: 0.3983 - val_accuracy: 0.8201 - 1s/epoch - 2ms/step\n",
      "Epoch 24/30\n",
      "625/625 - 2s - loss: 0.3196 - accuracy: 0.8587 - val_loss: 0.4021 - val_accuracy: 0.8208 - 2s/epoch - 2ms/step\n",
      "Epoch 25/30\n",
      "625/625 - 2s - loss: 0.3179 - accuracy: 0.8598 - val_loss: 0.4069 - val_accuracy: 0.8176 - 2s/epoch - 4ms/step\n",
      "Epoch 26/30\n",
      "625/625 - 3s - loss: 0.3162 - accuracy: 0.8603 - val_loss: 0.4026 - val_accuracy: 0.8176 - 3s/epoch - 5ms/step\n",
      "Epoch 27/30\n",
      "625/625 - 2s - loss: 0.3143 - accuracy: 0.8608 - val_loss: 0.4083 - val_accuracy: 0.8153 - 2s/epoch - 3ms/step\n",
      "Epoch 28/30\n",
      "625/625 - 4s - loss: 0.3133 - accuracy: 0.8611 - val_loss: 0.4047 - val_accuracy: 0.8174 - 4s/epoch - 6ms/step\n",
      "Epoch 29/30\n",
      "625/625 - 4s - loss: 0.3115 - accuracy: 0.8624 - val_loss: 0.4067 - val_accuracy: 0.8186 - 4s/epoch - 6ms/step\n",
      "Epoch 30/30\n",
      "625/625 - 3s - loss: 0.3101 - accuracy: 0.8636 - val_loss: 0.4115 - val_accuracy: 0.8168 - 3s/epoch - 4ms/step\n"
     ]
    }
   ],
   "source": [
    "num_epochs = 30\n",
    "\n",
    "for param in hyper_params:\n",
    "    h = compile_and_train_model(hyper_param=param, num_epochs=num_epochs)\n",
    "    history.append(h)"
   ]
  },
  {
   "cell_type": "code",
   "execution_count": 36,
   "metadata": {},
   "outputs": [
    {
     "name": "stdout",
     "output_type": "stream",
     "text": [
      "name: model 1, vocab_size: 1000, embedding_dim: 16\n"
     ]
    },
    {
     "ename": "NameError",
     "evalue": "name 'string' is not defined",
     "output_type": "error",
     "traceback": [
      "\u001b[0;31m---------------------------------------------------------------------------\u001b[0m",
      "\u001b[0;31mNameError\u001b[0m                                 Traceback (most recent call last)",
      "Cell \u001b[0;32mIn[36], line 4\u001b[0m\n\u001b[1;32m      2\u001b[0m \u001b[39mprint\u001b[39m(param)\n\u001b[1;32m      3\u001b[0m h \u001b[39m=\u001b[39m history[i]\n\u001b[0;32m----> 4\u001b[0m plot_graphs(h, param\u001b[39m.\u001b[39;49m_name, \u001b[39m\"\u001b[39;49m\u001b[39maccuracy\u001b[39;49m\u001b[39m\"\u001b[39;49m)\n\u001b[1;32m      5\u001b[0m plot_graphs(h, param\u001b[39m.\u001b[39m_name, \u001b[39m\"\u001b[39m\u001b[39mloss\u001b[39m\u001b[39m\"\u001b[39m)\n",
      "Cell \u001b[0;32mIn[35], line 9\u001b[0m, in \u001b[0;36mplot_graphs\u001b[0;34m(history, name, type)\u001b[0m\n\u001b[1;32m      7\u001b[0m plt\u001b[39m.\u001b[39mxlabel(\u001b[39m\"\u001b[39m\u001b[39mEpochs\u001b[39m\u001b[39m\"\u001b[39m)\n\u001b[1;32m      8\u001b[0m plt\u001b[39m.\u001b[39mylabel(name)\n\u001b[0;32m----> 9\u001b[0m plt\u001b[39m.\u001b[39mlegend([string, \u001b[39m'\u001b[39m\u001b[39mval_\u001b[39m\u001b[39m'\u001b[39m\u001b[39m+\u001b[39m\u001b[39mtype\u001b[39m])\n\u001b[1;32m     10\u001b[0m plt\u001b[39m.\u001b[39mshow()\n",
      "\u001b[0;31mNameError\u001b[0m: name 'string' is not defined"
     ]
    },
    {
     "data": {
      "image/png": "[encoded data removed]",
      "text/plain": [
       "<Figure size 640x480 with 1 Axes>"
      ]
     },
     "metadata": {},
     "output_type": "display_data"
    }
   ],
   "source": [
    "for i, param in enumerate(hyper_params):\n",
    "    print(param)\n",
    "    h = history[i]\n",
    "    plot_graphs(h, param._name, \"accuracy\")\n",
    "    plot_graphs(h, param._name, \"loss\")"
   ]
  }
 ],
 "metadata": {
  "kernelspec": {
   "display_name": "trax",
   "language": "python",
   "name": "python3"
  },
  "language_info": {
   "codemirror_mode": {
    "name": "ipython",
    "version": 3
   },
   "file_extension": ".py",
   "mimetype": "text/x-python",
   "name": "python",
   "nbconvert_exporter": "python",
   "pygments_lexer": "ipython3",
   "version": "3.10.5"
  },
  "orig_nbformat": 4
 },
 "nbformat": 4,
 "nbformat_minor": 2
}
